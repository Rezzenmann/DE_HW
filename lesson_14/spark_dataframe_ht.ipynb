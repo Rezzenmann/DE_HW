{
 "cells": [
  {
   "cell_type": "code",
   "execution_count": 42,
   "metadata": {
    "collapsed": true
   },
   "outputs": [],
   "source": [
    "from pyspark.sql import SparkSession, functions as f, types as t"
   ]
  },
  {
   "cell_type": "code",
   "execution_count": 43,
   "outputs": [],
   "source": [
    "spark = SparkSession.builder.master('local[3]').getOrCreate()"
   ],
   "metadata": {
    "collapsed": false
   }
  },
  {
   "cell_type": "code",
   "execution_count": 44,
   "outputs": [
    {
     "name": "stdout",
     "output_type": "stream",
     "text": [
      "3.3.0\n"
     ]
    }
   ],
   "source": [
    "print(spark.version)"
   ],
   "metadata": {
    "collapsed": false
   }
  },
  {
   "cell_type": "code",
   "execution_count": 45,
   "outputs": [],
   "source": [
    "actor_df = spark.read.csv('./data/actor.csv', header=True, inferSchema=True)\n",
    "address_df = spark.read.csv('./data/address.csv', header=True, inferSchema=True)\n",
    "category_df = spark.read.csv('./data/category.csv', header=True, inferSchema=True)\n",
    "city_df = spark.read.csv('./data/city.csv', header=True, inferSchema=True)\n",
    "country_df = spark.read.csv('./data/country.csv', header=True, inferSchema=True)\n",
    "customer_df = spark.read.csv('./data/customer.csv', header=True, inferSchema=True)\n",
    "film_df = spark.read.csv('./data/film.csv', header=True, inferSchema=True)\n",
    "film_actor_df = spark.read.csv('./data/film_actor.csv', header=True, inferSchema=True)\n",
    "film_category_df = spark.read.csv('./data/film_category.csv', header=True, inferSchema=True)\n",
    "inventory_df = spark.read.csv('./data/inventory.csv', header=True, inferSchema=True)\n",
    "language_df = spark.read.csv('./data/language.csv', header=True, inferSchema=True)\n",
    "payment_df = spark.read.csv('./data/payment.csv', header=True, inferSchema=True)\n",
    "rental_df = spark.read.csv('./data/rental.csv', header=True, inferSchema=True)\n",
    "staff_df = spark.read.csv('./data/staff.csv', header=True, inferSchema=True)\n",
    "store_df = spark.read.csv('./data/store.csv', header=True, inferSchema=True)"
   ],
   "metadata": {
    "collapsed": false
   }
  },
  {
   "cell_type": "markdown",
   "source": [
    "# Домашнє завдання на тему Spark SQL\n",
    "\n",
    "Задачі з домашнього завдання на SQL потрібно розвʼязати за допомогою Spark SQL DataFrame API.\n",
    "\n",
    "- Дампи таблиць знаходяться в папці `data`. Датафрейми таблиць вже створені в клітинці вище.\n",
    "- Можете створювати стільки нових клітинок, скільки вам необхідно.\n",
    "- Розвʼязок кожної задачі має бути відображений в самому файлі (використати метод `.show()`)\n",
    "- код має бути оформлений у відповідності із одним із стилем, показаним лектором на занятті 13.\n",
    "\n",
    "**Увага!**\n",
    "Використовувати мову запитів SQL безпосередньо забороняється, потрібно використовувати виключно DataFrame API!\n"
   ],
   "metadata": {
    "collapsed": false
   }
  },
  {
   "cell_type": "markdown",
   "source": [
    "1.\n",
    "Вивести кількість фільмів в кожній категорії.\n",
    "Результат відсортувати за спаданням."
   ],
   "metadata": {
    "collapsed": false
   }
  },
  {
   "cell_type": "code",
   "execution_count": 46,
   "outputs": [
    {
     "name": "stdout",
     "output_type": "stream",
     "text": [
      "+-----------+---------+\n",
      "|       name|films_qtt|\n",
      "+-----------+---------+\n",
      "|     Sports|       74|\n",
      "|    Foreign|       73|\n",
      "|     Family|       69|\n",
      "|Documentary|       68|\n",
      "|  Animation|       66|\n",
      "|     Action|       64|\n",
      "|        New|       63|\n",
      "|      Drama|       62|\n",
      "|      Games|       61|\n",
      "|     Sci-Fi|       61|\n",
      "|   Children|       60|\n",
      "|     Comedy|       58|\n",
      "|     Travel|       57|\n",
      "|   Classics|       57|\n",
      "|     Horror|       56|\n",
      "|      Music|       51|\n",
      "+-----------+---------+\n",
      "\n"
     ]
    }
   ],
   "source": [
    "film_category_df.select(\n",
    "    'film_id',\n",
    "    'category_id'\n",
    ").groupBy(\n",
    "    'category_id'\n",
    ").agg(\n",
    "    f.countDistinct('film_id').alias('films_qtt')\n",
    ").join(\n",
    "    category_df, 'category_id', 'inner'\n",
    ").select(\n",
    "    'name',\n",
    "    'films_qtt'\n",
    ").orderBy(\n",
    "    f.desc('films_qtt')\n",
    ").show()"
   ],
   "metadata": {
    "collapsed": false
   }
  },
  {
   "cell_type": "markdown",
   "source": [
    "  2.\n",
    "Вивести 10 акторів, чиї фільми брали на прокат найбільше.\n",
    "Результат відсортувати за спаданням."
   ],
   "metadata": {
    "collapsed": false
   }
  },
  {
   "cell_type": "code",
   "execution_count": 47,
   "outputs": [
    {
     "name": "stdout",
     "output_type": "stream",
     "text": [
      "+--------+------------------+------------+\n",
      "|actor_id|         full_name|times_rented|\n",
      "+--------+------------------+------------+\n",
      "|     107|    GINA DEGENERES|         753|\n",
      "|     181|    MATTHEW CARREY|         678|\n",
      "|     198|       MARY KEITEL|         674|\n",
      "|     144|ANGELA WITHERSPOON|         654|\n",
      "|     102|       WALTER TORN|         640|\n",
      "|      60|       HENRY BERRY|         612|\n",
      "|     150|       JAYNE NOLTE|         611|\n",
      "|      37|        VAL BOLGER|         605|\n",
      "|      23|     SANDRA KILMER|         604|\n",
      "|      90|      SEAN GUINESS|         599|\n",
      "+--------+------------------+------------+\n",
      "only showing top 10 rows\n",
      "\n"
     ]
    }
   ],
   "source": [
    "rental_df.join(\n",
    "    inventory_df, 'inventory_id', 'inner'\n",
    ").join(\n",
    "    film_actor_df, 'film_id', 'inner'\n",
    ").join(\n",
    "    actor_df, 'actor_id', 'inner'\n",
    ").select(\n",
    "    'actor_id',\n",
    "    'rental_id',\n",
    "    f.concat_ws(' ','first_name', 'last_name').alias('full_name'),\n",
    ").groupBy(\n",
    "    'actor_id',\n",
    "    'full_name'\n",
    ").agg(\n",
    "    f.countDistinct('rental_id').alias('times_rented')\n",
    ").orderBy(\n",
    "    f.desc('times_rented')\n",
    ").show(10)"
   ],
   "metadata": {
    "collapsed": false
   }
  },
  {
   "cell_type": "markdown",
   "source": [
    "3.\n",
    "Вивести категорія фільмів, на яку було витрачено найбільше грошей\n",
    "в прокаті"
   ],
   "metadata": {
    "collapsed": false
   }
  },
  {
   "cell_type": "code",
   "execution_count": 48,
   "outputs": [
    {
     "name": "stdout",
     "output_type": "stream",
     "text": [
      "+------+-----------+\n",
      "|  name|total_spent|\n",
      "+------+-----------+\n",
      "|Sports|    5314.21|\n",
      "+------+-----------+\n",
      "only showing top 1 row\n",
      "\n"
     ]
    }
   ],
   "source": [
    "rental_df.alias(\n",
    "    'rent'\n",
    ").join(\n",
    "    payment_df.alias('pay'), 'rental_id', 'inner'\n",
    ").join(\n",
    "    inventory_df.alias('inv'), 'inventory_id', 'inner'\n",
    ").join(\n",
    "    film_category_df.alias('film_cat'), 'film_id', 'inner'\n",
    ").join(\n",
    "    category_df.alias('cat'), 'category_id', 'inner'\n",
    ").select(\n",
    "    'pay.rental_id',\n",
    "    'inv.film_id',\n",
    "    'cat.name',\n",
    "    'amount'\n",
    ").groupBy(\n",
    "    'name'\n",
    ").agg(\n",
    "    f.round(f.sum('amount'),2).alias('total_spent')\n",
    ").orderBy(\n",
    "    f.desc('total_spent')\n",
    ").show(1)"
   ],
   "metadata": {
    "collapsed": false
   }
  },
  {
   "cell_type": "markdown",
   "source": [
    "4.\n",
    "Вивести назви фільмів, яких не має в inventory."
   ],
   "metadata": {
    "collapsed": false
   }
  },
  {
   "cell_type": "code",
   "execution_count": 49,
   "outputs": [
    {
     "name": "stdout",
     "output_type": "stream",
     "text": [
      "+--------------------+\n",
      "|               title|\n",
      "+--------------------+\n",
      "|      ALICE FANTASIA|\n",
      "|         APOLLO TEEN|\n",
      "|      ARGONAUTS TOWN|\n",
      "|       ARK RIDGEMONT|\n",
      "|ARSENIC INDEPENDENCE|\n",
      "|   BOONDOCK BALLROOM|\n",
      "|       BUTCH PANTHER|\n",
      "|       CATCH AMISTAD|\n",
      "| CHINATOWN GLADIATOR|\n",
      "|      CHOCOLATE DUCK|\n",
      "|COMMANDMENTS EXPRESS|\n",
      "|    CROSSING DIVORCE|\n",
      "|     CROWDS TELEMARK|\n",
      "|    CRYSTAL BREAKING|\n",
      "|          DAZED PUNK|\n",
      "|DELIVERANCE MULHO...|\n",
      "|   FIREHOUSE VIETNAM|\n",
      "|       FLOATS GARDEN|\n",
      "|FRANKENSTEIN STRA...|\n",
      "|  GLADIATOR WESTWARD|\n",
      "+--------------------+\n",
      "only showing top 20 rows\n",
      "\n"
     ]
    }
   ],
   "source": [
    "film_df.join(\n",
    "    inventory_df.alias('i'), 'film_id', 'left'\n",
    ").where(\n",
    "    'i.film_id is null'\n",
    ").select(\n",
    "    'title'\n",
    ").distinct(\n",
    ").orderBy(\n",
    "    'title'\n",
    ").show()"
   ],
   "metadata": {
    "collapsed": false
   }
  },
  {
   "cell_type": "markdown",
   "source": [
    "5.\n",
    "Вивести топ 3 актори, які найбільше зʼявлялись в категорії фільмів “Children”"
   ],
   "metadata": {
    "collapsed": false
   }
  },
  {
   "cell_type": "code",
   "execution_count": 50,
   "outputs": [
    {
     "name": "stdout",
     "output_type": "stream",
     "text": [
      "+------------+---------+\n",
      "|   full_name|films_qtt|\n",
      "+------------+---------+\n",
      "|HELEN VOIGHT|        7|\n",
      "| SUSAN DAVIS|        6|\n",
      "|  MARY TANDY|        5|\n",
      "+------------+---------+\n",
      "only showing top 3 rows\n",
      "\n"
     ]
    }
   ],
   "source": [
    "film_df.alias('film').join(\n",
    "    film_category_df.alias('film_cat'), 'film_id', 'inner'\n",
    ").join(\n",
    "    category_df.alias('cat'), 'category_id', 'inner'\n",
    ").join(\n",
    "    film_actor_df.alias('film_act'), 'film_id', 'inner'\n",
    ").join(\n",
    "    actor_df.alias('act'), 'actor_id', 'inner'\n",
    ").where(\n",
    "    'cat.name  = \"Children\"'\n",
    ").select(\n",
    "    'film.film_id',\n",
    "    f.concat_ws(' ', 'first_name', 'last_name').alias('full_name')\n",
    ").groupBy(\n",
    "    'full_name'\n",
    ").agg(\n",
    "    f.countDistinct('film_id').alias('films_qtt')\n",
    ").orderBy(\n",
    "    f.desc('films_qtt')\n",
    ").show(3)"
   ],
   "metadata": {
    "collapsed": false
   }
  },
  {
   "cell_type": "markdown",
   "source": [
    "Stop Spark session:"
   ],
   "metadata": {
    "collapsed": false
   }
  },
  {
   "cell_type": "code",
   "execution_count": 51,
   "outputs": [],
   "source": [
    "spark.stop()"
   ],
   "metadata": {
    "collapsed": false
   }
  },
  {
   "cell_type": "code",
   "execution_count": null,
   "outputs": [],
   "source": [],
   "metadata": {
    "collapsed": false
   }
  }
 ],
 "metadata": {
  "kernelspec": {
   "display_name": "Python 3",
   "language": "python",
   "name": "python3"
  },
  "language_info": {
   "codemirror_mode": {
    "name": "ipython",
    "version": 2
   },
   "file_extension": ".py",
   "mimetype": "text/x-python",
   "name": "python",
   "nbconvert_exporter": "python",
   "pygments_lexer": "ipython2",
   "version": "2.7.6"
  }
 },
 "nbformat": 4,
 "nbformat_minor": 0
}
